{
  "nbformat": 4,
  "nbformat_minor": 0,
  "metadata": {
    "colab": {
      "provenance": [],
      "include_colab_link": true
    },
    "kernelspec": {
      "name": "python3",
      "display_name": "Python 3"
    },
    "language_info": {
      "name": "python"
    }
  },
  "cells": [
    {
      "cell_type": "markdown",
      "metadata": {
        "id": "view-in-github",
        "colab_type": "text"
      },
      "source": [
        "<a href=\"https://colab.research.google.com/github/RohitMangale/ML/blob/main/pythonLibraries/Numpy.ipynb\" target=\"_parent\"><img src=\"https://colab.research.google.com/assets/colab-badge.svg\" alt=\"Open In Colab\"/></a>"
      ]
    },
    {
      "cell_type": "code",
      "execution_count": null,
      "metadata": {
        "id": "exwx4dCzBBu1"
      },
      "outputs": [],
      "source": [
        "#Numpy Basics_Array\n",
        "import numpy as np"
      ]
    },
    {
      "cell_type": "code",
      "source": [
        "import numpy as np\n",
        "\n",
        "# np.array(object, dtype=None, copy=True, order='K', subdtype=None, ndmin=0)\n",
        "# Definition: Creates a NumPy array from a Python sequence.\n",
        "a = np.array([1, 2, 3])\n",
        "print(a)\n",
        "#Converts various data structures (lists, tuples, etc.) into NumPy arrays.\n",
        "\n",
        "# np.arange(start, stop=None, step=1, dtype=None)\n",
        "# Definition: Creates an array with evenly spaced values within a given interval.\n",
        "a = np.arange(10)\n",
        "print(a)\n",
        "# Generates a sequence of numbers with a specified step size.\n",
        "\n",
        "# np.linspace(start, stop, num=50, endpoint=True, retstep=False, dtype=None)\n",
        "# Definition: Creates an array with evenly spaced numbers over a specified interval.\n",
        "a = np.linspace(0, 1, 5)\n",
        "print(a)\n",
        "# Generates a specified number of evenly spaced values between a start and stop value.\n",
        "\n",
        "# np.zeros(shape, dtype=float, order='C')\n",
        "# Definition: Creates an array filled with zeros.\n",
        "a = np.zeros((3, 4))\n",
        "print(a)\n",
        "# Creates an array of specified shape with all elements initialized to zero.\n",
        "\n",
        "# np.ones(shape, dtype=float, order='C')\n",
        "# Definition: Creates an array filled with ones.\n",
        "a = np.ones((2, 2))\n",
        "print(a)\n",
        "# Creates an array of specified shape with all elements initialized to one.\n",
        "\n",
        "# np.empty(shape, dtype=float, order='C')\n",
        "# Definition: Creates an array without initializing its values.\n",
        "a = np.empty((2, 3))\n",
        "print(a)\n",
        "# Creates an array of specified shape but with uninitialized values.\n",
        "\n",
        "# np.full(shape, fill_value, dtype=None, order='C')\n",
        "# Definition: Creates an array filled with a specified value.\n",
        "a = np.full((2, 2), 7)\n",
        "print(a)\n",
        "# Creates an array of specified shape with all elements filled with a given value.\n",
        "\n",
        "# np.eye(N, M=None, k=0, dtype=<class 'float64'>)\n",
        "# Definition: Creates an identity matrix.\n",
        "a = np.eye(3)\n",
        "print(a)\n",
        "# Creates a square matrix with ones on the main diagonal and zeros elsewhere.\n",
        "\n",
        "# arr.shape\n",
        "# Definition: Returns the shape of the array.\n",
        "shape = a.shape\n",
        "print(shape)\n",
        "# Provides the dimensions of the array as a tuple.\n",
        "\n",
        "# arr.ndim\n",
        "# Definition: Returns the number of dimensions of the array.\n",
        "ndim = a.ndim\n",
        "print(ndim)\n",
        "# Gives the rank or dimensionality of the array.\n",
        "\n",
        "# arr.size\n",
        "# Definition: Returns the total number of elements in the array.\n",
        "size = a.size\n",
        "print(size)\n",
        "# Gives the total number of elements in the array.\n",
        "\n",
        "# arr.dtype\n",
        "# Definition: Returns the data type of the array elements.\n",
        "dtype = a.dtype\n",
        "print(dtype)\n",
        "# Indicates the data type of the elements in the array.\n",
        "\n",
        "\n",
        "# arr.resize(new_shape, refcheck=True, order='C')\n",
        "# Definition: Resizes the array, changing its shape and possibly its data.\n",
        "a = np.array([1, 2, 3])\n",
        "print(a.resize(4, 2))\n",
        "# Changes the shape of the array, potentially modifying the data.\n",
        "\n",
        "# arr.flatten()\n",
        "# Definition: Returns a copy of the array collapsed into one dimension.\n",
        "flattened_array = a.flatten()\n",
        "print(flattened_array)\n",
        "# Creates a new one-dimensional array from the original array.\n",
        "\n",
        "# arr.ravel()\n",
        "# Definition: Returns a flattened array (may be a view).\n",
        "raveled_array = a.ravel()\n",
        "print(raveled_array)\n",
        "# Creates a flattened array, possibly sharing memory with the original array."
      ],
      "metadata": {
        "colab": {
          "base_uri": "https://localhost:8080/"
        },
        "id": "PGlLFrQIBQAN",
        "outputId": "f0dcfcfa-b44b-4810-b993-90fc168c47b3"
      },
      "execution_count": null,
      "outputs": [
        {
          "output_type": "stream",
          "name": "stdout",
          "text": [
            "[1 2 3]\n",
            "[0 1 2 3 4 5 6 7 8 9]\n",
            "[0.   0.25 0.5  0.75 1.  ]\n",
            "[[0. 0. 0. 0.]\n",
            " [0. 0. 0. 0.]\n",
            " [0. 0. 0. 0.]]\n",
            "[[1. 1.]\n",
            " [1. 1.]]\n",
            "[[4.70774122e-310 0.00000000e+000 6.83609317e-310]\n",
            " [6.79038654e-313 2.14321575e-312 2.27053550e-312]]\n",
            "[[7 7]\n",
            " [7 7]]\n",
            "[[1. 0. 0.]\n",
            " [0. 1. 0.]\n",
            " [0. 0. 1.]]\n",
            "(3, 3)\n",
            "2\n",
            "9\n",
            "float64\n",
            "None\n",
            "[1 2 3 0 0 0 0 0]\n",
            "[1 2 3 0 0 0 0 0]\n"
          ]
        }
      ]
    },
    {
      "cell_type": "markdown",
      "source": [
        "## Broadcasting"
      ],
      "metadata": {
        "id": "WMPIi9eTOxRt"
      }
    },
    {
      "cell_type": "code",
      "source": [
        "import numpy as np\n",
        "\n",
        "# Broadcasting\n",
        "# Definition: A mechanism in NumPy that allows operations between arrays of different shapes.\n",
        "\n",
        "# Example: Broadcasting with simple arrays\n",
        "a = np.array([1, 2, 3])  # Shape (3,)\n",
        "b = np.array([[1],[4],[5],[6]])  # Shape (3, 1)\n",
        "print(a.shape,b.shape)\n",
        "print(a,b)\n",
        "\n",
        "# Perform element-wise addition\n",
        "c = a + b\n",
        "print(\"Broadcasting Example with simple arrays\")\n",
        "print(c)\n",
        "\n",
        "# Example: Broadcasting with more complex arrays\n",
        "a = np.array([[1, 2], [3, 4]])  # Shape (2, 2)\n",
        "b = np.array([10, 20])  # Shape (2,)\n",
        "\n",
        "# Perform element-wise multiplication\n",
        "c = a * b\n",
        "print(\"Broadcasting Example with complex arrays\")\n",
        "print(c)\n",
        "\n",
        "\n",
        "# Broadcasting it aligns arrays of different shapes for arithmetic operations by stretching or repeating elements."
      ],
      "metadata": {
        "colab": {
          "base_uri": "https://localhost:8080/"
        },
        "id": "ehudVBzzOzvL",
        "outputId": "1d2ecc22-6f02-484b-d89e-665294ea7817"
      },
      "execution_count": null,
      "outputs": [
        {
          "output_type": "stream",
          "name": "stdout",
          "text": [
            "(3,) (4, 1)\n",
            "[1 2 3] [[1]\n",
            " [4]\n",
            " [5]\n",
            " [6]]\n",
            "Broadcasting Example with simple arrays\n",
            "[[2 3 4]\n",
            " [5 6 7]\n",
            " [6 7 8]\n",
            " [7 8 9]]\n",
            "Broadcasting Example with complex arrays\n",
            "[[10 40]\n",
            " [30 80]]\n"
          ]
        }
      ]
    },
    {
      "cell_type": "markdown",
      "source": [
        "## Slicing"
      ],
      "metadata": {
        "id": "Sq7DQAx8RE7m"
      }
    },
    {
      "cell_type": "code",
      "source": [
        "\n",
        "# Create a sample array\n",
        "arr = np.array([0, 1, 2, 3, 4, 5, 6, 7, 8, 9])\n",
        "\n",
        "# Basic slicing: arr[start:stop:step]\n",
        "# Definition: Extracts a portion of an array using start, stop, and step indices.\n",
        "print(\"Basic slicing:\")\n",
        "slice_1 = arr[2:7:2]  # Elements from index 2 to 6 with a step of 2\n",
        "print(slice_1)\n",
        "#Creates a view of the original array, modifying the view affects the original array.\n",
        "\n",
        "# Negative indexing\n",
        "# Definition: Accesses elements from the end of the array.\n",
        "print(\"Negative indexing:\")\n",
        "slice_2 = arr[-3:]  # Last three elements\n",
        "print(slice_2)\n",
        "#Negative indices count from the end of the array.\n",
        "\n",
        "# Slicing multidimensional arrays\n",
        "arr_2d = np.array([[1, 2, 3], [4, 5, 6], [7, 8, 9]])\n",
        "\n",
        "# Accessing a specific row\n",
        "print(\"Accessing a specific row:\")\n",
        "row_1 = arr_2d[1]\n",
        "print(row_1)\n",
        "# Access the second row\n",
        "\n",
        "# Accessing a specific column\n",
        "print(\"Accessing a specific column:\")\n",
        "col_2 = arr_2d[:, 1]\n",
        "print(col_2)\n",
        "# Access the second column\n",
        "\n",
        "# Slicing a subarray\n",
        "print(\"Slicing a subarray:\")\n",
        "sub_array = arr_2d[1:3, 1:3]\n",
        "print(sub_array)\n",
        "# Access a 2x2 subarray"
      ],
      "metadata": {
        "colab": {
          "base_uri": "https://localhost:8080/"
        },
        "collapsed": true,
        "id": "0pcw35JmPjIl",
        "outputId": "611ca28d-fecf-47f7-d16c-c5ec6e675edb"
      },
      "execution_count": null,
      "outputs": [
        {
          "output_type": "stream",
          "name": "stdout",
          "text": [
            "Basic slicing:\n",
            "[2 4 6]\n",
            "Negative indexing:\n",
            "[7 8 9]\n",
            "Accessing a specific row:\n",
            "[4 5 6]\n",
            "Accessing a specific column:\n",
            "[2 5 8]\n",
            "Slicing a subarray:\n",
            "[[5 6]\n",
            " [8 9]]\n"
          ]
        }
      ]
    },
    {
      "cell_type": "markdown",
      "source": [
        "## View,Copy,Split"
      ],
      "metadata": {
        "id": "4oC-i4WLQm28"
      }
    },
    {
      "cell_type": "code",
      "source": [
        "import numpy as np\n",
        "\n",
        "# Create a sample array\n",
        "arr = np.array([0, 1, 2, 3, 4, 5, 6, 7, 8, 9])\n",
        "\n",
        "# Array copy\n",
        "# Definition: Creates a new array with the same data as the original array.\n",
        "copy_arr = arr.copy()\n",
        "copy_arr[0] = 10\n",
        "print(\"Array copy:\")\n",
        "print(arr)\n",
        "print(copy_arr)\n",
        "# Changes to the copy do not affect the original array.\n",
        "\n",
        "# Array view\n",
        "# Definition: Creates a new array object that shares the same data with the original array.\n",
        "view_arr = arr.view()\n",
        "view_arr[1] = 20\n",
        "print(\"Array view:\")\n",
        "print(arr)\n",
        "print(view_arr)\n",
        "# Changes to the view affect the original array.\n",
        "\n",
        "# Array splitting\n",
        "# Definition: Splits an array into multiple sub-arrays.\n",
        "arr_2d = np.array([[1, 2, 3], [4, 5, 6], [7, 8, 9]])\n",
        "# Can split along different axes.\n",
        "\n",
        "split_arr_rows = np.split(arr_2d, 3)\n",
        "print(\"Splitting along rows:\")\n",
        "print(split_arr_rows)\n",
        "# Splitting along the first axis (rows)\n",
        "\n",
        "split_arr_cols = np.split(arr_2d, 3, axis=1)\n",
        "print(\"Splitting along columns:\")\n",
        "print(split_arr_cols)\n",
        "# Splitting along the second axis (columns)"
      ],
      "metadata": {
        "id": "xSiahzoBPvag",
        "colab": {
          "base_uri": "https://localhost:8080/"
        },
        "outputId": "aba193c6-e578-4fc1-be20-688c6cea5286"
      },
      "execution_count": null,
      "outputs": [
        {
          "output_type": "stream",
          "name": "stdout",
          "text": [
            "Array copy:\n",
            "[0 1 2 3 4 5 6 7 8 9]\n",
            "[10  1  2  3  4  5  6  7  8  9]\n",
            "Array view:\n",
            "[ 0 20  2  3  4  5  6  7  8  9]\n",
            "[ 0 20  2  3  4  5  6  7  8  9]\n",
            "Splitting along rows:\n",
            "[array([[1, 2, 3]]), array([[4, 5, 6]]), array([[7, 8, 9]])]\n",
            "Splitting along columns:\n",
            "[array([[1],\n",
            "       [4],\n",
            "       [7]]), array([[2],\n",
            "       [5],\n",
            "       [8]]), array([[3],\n",
            "       [6],\n",
            "       [9]])]\n"
          ]
        }
      ]
    },
    {
      "cell_type": "markdown",
      "source": [
        "### Random\n"
      ],
      "metadata": {
        "id": "yCmJRMYPRK3M"
      }
    },
    {
      "cell_type": "code",
      "source": [],
      "metadata": {
        "colab": {
          "base_uri": "https://localhost:8080/"
        },
        "collapsed": true,
        "id": "nTsAVr5xR8uB",
        "outputId": "a13ddc25-6edc-473c-bbf5-203cfebf9495"
      },
      "execution_count": null,
      "outputs": [
        {
          "output_type": "stream",
          "name": "stdout",
          "text": [
            "np.random.rand:\n",
            "[[0.37454012 0.95071431]\n",
            " [0.73199394 0.59865848]\n",
            " [0.15601864 0.15599452]]\n",
            "np.random.randn:\n",
            "[[ 1.57921282  0.76743473 -0.46947439]\n",
            " [ 0.54256004 -0.46341769 -0.46572975]]\n",
            "np.random.randint:\n",
            "[[14 10]\n",
            " [13  5]\n",
            " [14  7]]\n",
            "np.random.choice:\n",
            "[[1 9 8]\n",
            " [5 4 2]\n",
            " [0 7 3]]\n",
            "np.random.shuffle:\n",
            "[5 2 4 7 9 0 3 1 6 8]\n",
            "np.random.permutation:\n",
            "[9 7 0 2 5 6 3 1 4 8]\n"
          ]
        }
      ]
    },
    {
      "cell_type": "code",
      "source": [],
      "metadata": {
        "id": "mPF6pBh4SPvE"
      },
      "execution_count": null,
      "outputs": []
    }
  ]
}